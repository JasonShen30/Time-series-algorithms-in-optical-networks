{
 "cells": [
  {
   "cell_type": "code",
   "execution_count": 3,
   "id": "c7cd09fb-e881-4258-a64a-686d4fa203a8",
   "metadata": {},
   "outputs": [
    {
     "ename": "NameError",
     "evalue": "name 'X_train' is not defined",
     "output_type": "error",
     "traceback": [
      "\u001b[1;31m---------------------------------------------------------------------------\u001b[0m",
      "\u001b[1;31mNameError\u001b[0m                                 Traceback (most recent call last)",
      "\u001b[1;32m<ipython-input-3-4eef50e45913>\u001b[0m in \u001b[0;36m<module>\u001b[1;34m\u001b[0m\n\u001b[0;32m     48\u001b[0m \u001b[0mYtest\u001b[0m\u001b[1;33m=\u001b[0m \u001b[0mY\u001b[0m\u001b[1;33m[\u001b[0m\u001b[0mtrain_size\u001b[0m\u001b[1;33m:\u001b[0m\u001b[1;33m]\u001b[0m\u001b[1;33m\u001b[0m\u001b[1;33m\u001b[0m\u001b[0m\n\u001b[0;32m     49\u001b[0m \u001b[1;33m\u001b[0m\u001b[0m\n\u001b[1;32m---> 50\u001b[1;33m \u001b[0mXtrain\u001b[0m \u001b[1;33m=\u001b[0m \u001b[0mXtrain\u001b[0m\u001b[1;33m.\u001b[0m\u001b[0mreshape\u001b[0m\u001b[1;33m(\u001b[0m\u001b[1;33m(\u001b[0m\u001b[0mX_train\u001b[0m\u001b[1;33m.\u001b[0m\u001b[0mshape\u001b[0m\u001b[1;33m[\u001b[0m\u001b[1;36m0\u001b[0m\u001b[1;33m]\u001b[0m\u001b[1;33m,\u001b[0m \u001b[0mX_train\u001b[0m\u001b[1;33m.\u001b[0m\u001b[0mshape\u001b[0m\u001b[1;33m[\u001b[0m\u001b[1;36m1\u001b[0m\u001b[1;33m]\u001b[0m\u001b[1;33m)\u001b[0m\u001b[1;33m)\u001b[0m\u001b[1;33m\u001b[0m\u001b[1;33m\u001b[0m\u001b[0m\n\u001b[0m\u001b[0;32m     51\u001b[0m \u001b[0mXtest\u001b[0m \u001b[1;33m=\u001b[0m \u001b[0mXtest\u001b[0m\u001b[1;33m.\u001b[0m\u001b[0mreshape\u001b[0m\u001b[1;33m(\u001b[0m\u001b[1;33m(\u001b[0m\u001b[0mX_valid\u001b[0m\u001b[1;33m.\u001b[0m\u001b[0mshape\u001b[0m\u001b[1;33m[\u001b[0m\u001b[1;36m0\u001b[0m\u001b[1;33m]\u001b[0m\u001b[1;33m,\u001b[0m \u001b[0mX_valid\u001b[0m\u001b[1;33m.\u001b[0m\u001b[0mshape\u001b[0m\u001b[1;33m[\u001b[0m\u001b[1;36m1\u001b[0m\u001b[1;33m]\u001b[0m\u001b[1;33m)\u001b[0m\u001b[1;33m)\u001b[0m\u001b[1;33m\u001b[0m\u001b[1;33m\u001b[0m\u001b[0m\n\u001b[0;32m     52\u001b[0m \u001b[0mprint\u001b[0m\u001b[1;33m(\u001b[0m\u001b[1;34m'Train set shape'\u001b[0m\u001b[1;33m,\u001b[0m \u001b[0mXtrain\u001b[0m\u001b[1;33m.\u001b[0m\u001b[0mshape\u001b[0m\u001b[1;33m)\u001b[0m\u001b[1;33m\u001b[0m\u001b[1;33m\u001b[0m\u001b[0m\n",
      "\u001b[1;31mNameError\u001b[0m: name 'X_train' is not defined"
     ]
    },
    {
     "data": {
      "text/plain": [
       "<Figure size 1008x504 with 0 Axes>"
      ]
     },
     "metadata": {},
     "output_type": "display_data"
    }
   ],
   "source": [
    "import math\n",
    "import numpy as np\n",
    "import pandas as pd \n",
    "import matplotlib.pyplot as plt \n",
    "from pandas import read_excel, read_csv \n",
    "\n",
    "from tensorflow.keras.models import Sequential \n",
    "from tensorflow.keras.layers import Dense,RepeatVector\n",
    "from tensorflow.keras.layers import LSTM \n",
    "from tensorflow.keras.layers import Flatten\n",
    "from tensorflow.keras.layers import TimeDistributed\n",
    "from tensorflow.keras.layers import Conv1D\n",
    "from tensorflow.keras.layers import MaxPooling1D\n",
    "\n",
    "from sklearn.preprocessing import MinMaxScaler \n",
    "from sklearn.metrics import mean_squared_error, r2_score, mean_absolute_error\n",
    "import time\n",
    "from tensorflow.keras.models import load_model\n",
    "\n",
    "plt.figure(figsize=(14,7))\n",
    "\n",
    "#loading data\n",
    "df = read_excel('.../channel_100.xlsx',usecols = [1],header = 0)\n",
    "dataset = df.values\n",
    "dataset = dataset.astype('float')\n",
    "scaler = MinMaxScaler(feature_range = (-1,1))\n",
    "dataset = scaler.fit_transform(dataset)\n",
    "\n",
    "#create input\n",
    "timestep = 10\n",
    "\n",
    "X= []\n",
    "Y=[]\n",
    "\n",
    "raw_data=dataset\n",
    "\n",
    "for i in range(len(raw_data)- (timestep)):\n",
    "    X.append(raw_data[i:i+timestep])\n",
    "    Y.append(raw_data[i+timestep])\n",
    "    \n",
    "X=np.asanyarray(X)\n",
    "Y=np.asanyarray(Y)\n",
    "\n",
    "train_size = int(len(dataset) * 0.7)\n",
    "Xtrain = X[:train_size,:,:]  \n",
    "Ytrain = Y[:train_size] \n",
    "Xtest = X[train_size:,:,:]  \n",
    "Ytest= Y[train_size:]  \n",
    "\n",
    "Xtrain = Xtrain.reshape((Xtrain.shape[0], X_train.shape[1]))\n",
    "Xtest = Xtest.reshape((Xtest.shape[0], X_valid.shape[1]))\n",
    "print('Train set shape', Xtrain.shape)\n",
    "print('Validation set shape', Xtest.shape)\n",
    "\n",
    "#create and fit MLP network \n",
    "model = Sequential()\n",
    "model.add(Dense(50,input_dim=Xtrain.shape[1]))\n",
    "model.add(Dense(1))\n",
    "model.compile(loss='mean_squared_error', optimizer='adam')\n",
    "model.summary()\n",
    "start = time.time()\n",
    "hist = model.fit(Xtrain,Ytrain, validation_data = (Xtest, Ytest), epochs = 40,batch_size = 256,verbose = 2)\n",
    "end = time.time()\n",
    "print(\"Train time: %.4f\" % (end-start))\n",
    "\n",
    "trainPredict = model.predict(Xtrain)\n",
    "trainPredict = scaler.inverse_transform(trainPredict)\n",
    "\n",
    "testPredict = model.predict(Xtest)\n",
    "testPredict = scaler.inverse_transform(testPredict)\n",
    "\n",
    "Ytest=np.asanyarray(Ytest)  \n",
    "Ytest=Ytest.reshape(-1,1) \n",
    "Ytest = scaler.inverse_transform(Ytest)\n",
    "\n",
    "\n",
    "Ytrain=np.asanyarray(Ytrain)  \n",
    "Ytrain=Ytrain.reshape(-1,1) \n",
    "Ytrain = scaler.inverse_transform(Ytrain)\n",
    "\n",
    "MSE = mean_squared_error(Ytest,testPredict)\n",
    "print('Test MSE: %.4f MSE' % (MSE))\n",
    "MAE = mean_absolute_error(Ytest,testPredict)\n",
    "print('Test MAE: %.4f MAE' % (MAE))\n",
    "R2 = r2_score(Ytest,testPredict)\n",
    "print('Test R2: %.4f R2' % (R2))\n",
    "\n",
    "plt.title('MLP Prediction',fontsize = 24)\n",
    "plt.plot(Ytest,label='TestingData')\n",
    "plt.plot(testPredict,label='ForecastingData')\n",
    "plt.legend(fontsize = 16)\n",
    "plt.grid(linestyle='-.')\n",
    "plt.show()"
   ]
  },
  {
   "cell_type": "code",
   "execution_count": null,
   "id": "dc71ca8c-8b74-4d8b-97a5-92fcfd0bfd5f",
   "metadata": {},
   "outputs": [],
   "source": []
  }
 ],
 "metadata": {
  "kernelspec": {
   "display_name": "Python 3",
   "language": "python",
   "name": "python3"
  },
  "language_info": {
   "codemirror_mode": {
    "name": "ipython",
    "version": 3
   },
   "file_extension": ".py",
   "mimetype": "text/x-python",
   "name": "python",
   "nbconvert_exporter": "python",
   "pygments_lexer": "ipython3",
   "version": "3.8.8"
  }
 },
 "nbformat": 4,
 "nbformat_minor": 5
}
